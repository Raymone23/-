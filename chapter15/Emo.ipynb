{
 "cells": [
  {
   "cell_type": "markdown",
   "metadata": {},
   "source": [
    "# 1. 背景与挖掘目标"
   ]
  },
  {
   "cell_type": "markdown",
   "metadata": {},
   "source": [
    "- 项目为《Python 数据分析与挖掘实战》第 15 章：电商产品评论数据情感分析。参考了书中的源代码，并补充了机械压缩去词实现。\n",
    "- 挖掘目标为评论文本数据中提取有价值的内容"
   ]
  },
  {
   "cell_type": "markdown",
   "metadata": {},
   "source": [
    "# 2. 分析方法与过程"
   ]
  },
  {
   "cell_type": "markdown",
   "metadata": {},
   "source": [
    "## 2.1 数据抽取 "
   ]
  },
  {
   "cell_type": "code",
   "execution_count": 1,
   "metadata": {},
   "outputs": [
    {
     "data": {
      "text/html": [
       "<div>\n",
       "<style scoped>\n",
       "    .dataframe tbody tr th:only-of-type {\n",
       "        vertical-align: middle;\n",
       "    }\n",
       "\n",
       "    .dataframe tbody tr th {\n",
       "        vertical-align: top;\n",
       "    }\n",
       "\n",
       "    .dataframe thead th {\n",
       "        text-align: right;\n",
       "    }\n",
       "</style>\n",
       "<table border=\"1\" class=\"dataframe\">\n",
       "  <thead>\n",
       "    <tr style=\"text-align: right;\">\n",
       "      <th></th>\n",
       "      <th>Id</th>\n",
       "      <th>已采</th>\n",
       "      <th>已发</th>\n",
       "      <th>电商平台</th>\n",
       "      <th>品牌</th>\n",
       "      <th>评论</th>\n",
       "      <th>时间</th>\n",
       "      <th>型号</th>\n",
       "      <th>PageUrl</th>\n",
       "    </tr>\n",
       "  </thead>\n",
       "  <tbody>\n",
       "    <tr>\n",
       "      <td>0</td>\n",
       "      <td>1</td>\n",
       "      <td>True</td>\n",
       "      <td>False</td>\n",
       "      <td>京东</td>\n",
       "      <td>AO</td>\n",
       "      <td>挺好的 ，安装人员很负责 指的夸奖</td>\n",
       "      <td>2014/8/26 9:07</td>\n",
       "      <td>AO史密斯（A.O.Smith） ET300J-60 电热水器 60升</td>\n",
       "      <td>http://s.club.jd.com/productpage/p-1008025-s-0...</td>\n",
       "    </tr>\n",
       "    <tr>\n",
       "      <td>1</td>\n",
       "      <td>2</td>\n",
       "      <td>True</td>\n",
       "      <td>False</td>\n",
       "      <td>京东</td>\n",
       "      <td>AO</td>\n",
       "      <td>自己安装的，感觉蛮好。后续追加。</td>\n",
       "      <td>2014/10/17 14:24</td>\n",
       "      <td>AO史密斯（A.O.Smith） ET300J-60 电热水器 60升</td>\n",
       "      <td>http://s.club.jd.com/productpage/p-1008025-s-0...</td>\n",
       "    </tr>\n",
       "    <tr>\n",
       "      <td>2</td>\n",
       "      <td>3</td>\n",
       "      <td>True</td>\n",
       "      <td>False</td>\n",
       "      <td>京东</td>\n",
       "      <td>AO</td>\n",
       "      <td>\\n\\nAO史密斯（A.O.Smith） ET300J-60 电热水器 60升 还没安装</td>\n",
       "      <td>2014/11/12 13:36</td>\n",
       "      <td>AO史密斯（A.O.Smith） ET300J-60 电热水器 60升</td>\n",
       "      <td>http://s.club.jd.com/productpage/p-1008025-s-0...</td>\n",
       "    </tr>\n",
       "    <tr>\n",
       "      <td>3</td>\n",
       "      <td>4</td>\n",
       "      <td>True</td>\n",
       "      <td>False</td>\n",
       "      <td>京东</td>\n",
       "      <td>AO</td>\n",
       "      <td>还没装，等安装之后再来吧，为装修备的货。</td>\n",
       "      <td>2014/11/16 0:04</td>\n",
       "      <td>AO史密斯（A.O.Smith） ET300J-60 电热水器 60升</td>\n",
       "      <td>http://s.club.jd.com/productpage/p-1008025-s-0...</td>\n",
       "    </tr>\n",
       "    <tr>\n",
       "      <td>4</td>\n",
       "      <td>5</td>\n",
       "      <td>True</td>\n",
       "      <td>False</td>\n",
       "      <td>京东</td>\n",
       "      <td>AO</td>\n",
       "      <td>大小刚刚好，安装收了140材料费，活接、弯头啥的。试机顺利，16度加热到30度用了6分钟左右...</td>\n",
       "      <td>2014/11/11 8:11</td>\n",
       "      <td>AO史密斯（A.O.Smith） ET300J-60 电热水器 60升</td>\n",
       "      <td>http://s.club.jd.com/productpage/p-1008025-s-0...</td>\n",
       "    </tr>\n",
       "  </tbody>\n",
       "</table>\n",
       "</div>"
      ],
      "text/plain": [
       "   Id    已采     已发 电商平台  品牌  \\\n",
       "0   1  True  False   京东  AO   \n",
       "1   2  True  False   京东  AO   \n",
       "2   3  True  False   京东  AO   \n",
       "3   4  True  False   京东  AO   \n",
       "4   5  True  False   京东  AO   \n",
       "\n",
       "                                                  评论                时间  \\\n",
       "0                                  挺好的 ，安装人员很负责 指的夸奖    2014/8/26 9:07   \n",
       "1                                   自己安装的，感觉蛮好。后续追加。  2014/10/17 14:24   \n",
       "2       \\n\\nAO史密斯（A.O.Smith） ET300J-60 电热水器 60升 还没安装  2014/11/12 13:36   \n",
       "3                               还没装，等安装之后再来吧，为装修备的货。   2014/11/16 0:04   \n",
       "4  大小刚刚好，安装收了140材料费，活接、弯头啥的。试机顺利，16度加热到30度用了6分钟左右...   2014/11/11 8:11   \n",
       "\n",
       "                                    型号  \\\n",
       "0  AO史密斯（A.O.Smith） ET300J-60 电热水器 60升   \n",
       "1  AO史密斯（A.O.Smith） ET300J-60 电热水器 60升   \n",
       "2  AO史密斯（A.O.Smith） ET300J-60 电热水器 60升   \n",
       "3  AO史密斯（A.O.Smith） ET300J-60 电热水器 60升   \n",
       "4  AO史密斯（A.O.Smith） ET300J-60 电热水器 60升   \n",
       "\n",
       "                                             PageUrl  \n",
       "0  http://s.club.jd.com/productpage/p-1008025-s-0...  \n",
       "1  http://s.club.jd.com/productpage/p-1008025-s-0...  \n",
       "2  http://s.club.jd.com/productpage/p-1008025-s-0...  \n",
       "3  http://s.club.jd.com/productpage/p-1008025-s-0...  \n",
       "4  http://s.club.jd.com/productpage/p-1008025-s-0...  "
      ]
     },
     "execution_count": 1,
     "metadata": {},
     "output_type": "execute_result"
    }
   ],
   "source": [
    "'''读取数据'''\n",
    "import pandas as pd\n",
    "import numpy as np\n",
    "\n",
    "inputfile = 'chapter15/demo/data/huizong.csv'\n",
    "data = pd.read_csv(inputfile, encoding='utf-8')\n",
    "data.head()"
   ]
  },
  {
   "cell_type": "code",
   "execution_count": 2,
   "metadata": {},
   "outputs": [
    {
     "data": {
      "text/html": [
       "<div>\n",
       "<style scoped>\n",
       "    .dataframe tbody tr th:only-of-type {\n",
       "        vertical-align: middle;\n",
       "    }\n",
       "\n",
       "    .dataframe tbody tr th {\n",
       "        vertical-align: top;\n",
       "    }\n",
       "\n",
       "    .dataframe thead th {\n",
       "        text-align: right;\n",
       "    }\n",
       "</style>\n",
       "<table border=\"1\" class=\"dataframe\">\n",
       "  <thead>\n",
       "    <tr style=\"text-align: right;\">\n",
       "      <th></th>\n",
       "      <th>评论</th>\n",
       "    </tr>\n",
       "  </thead>\n",
       "  <tbody>\n",
       "    <tr>\n",
       "      <td>95898</td>\n",
       "      <td>京东商城信得过，买的放心，用的省心、安心、放心！</td>\n",
       "    </tr>\n",
       "    <tr>\n",
       "      <td>95899</td>\n",
       "      <td>给公司宿舍买的，上门安装很快，快递也送的及时，不错的。给五分吧</td>\n",
       "    </tr>\n",
       "    <tr>\n",
       "      <td>95900</td>\n",
       "      <td>美的值得信赖，质量不错</td>\n",
       "    </tr>\n",
       "    <tr>\n",
       "      <td>95901</td>\n",
       "      <td>不错不错的哦，第一次在京东买这些产品，感觉相当好</td>\n",
       "    </tr>\n",
       "    <tr>\n",
       "      <td>95902</td>\n",
       "      <td>很满意，水方一晚上都还是热的早上还能再洗，</td>\n",
       "    </tr>\n",
       "  </tbody>\n",
       "</table>\n",
       "</div>"
      ],
      "text/plain": [
       "                                    评论\n",
       "95898         京东商城信得过，买的放心，用的省心、安心、放心！\n",
       "95899  给公司宿舍买的，上门安装很快，快递也送的及时，不错的。给五分吧\n",
       "95900                      美的值得信赖，质量不错\n",
       "95901         不错不错的哦，第一次在京东买这些产品，感觉相当好\n",
       "95902            很满意，水方一晚上都还是热的早上还能再洗，"
      ]
     },
     "execution_count": 2,
     "metadata": {},
     "output_type": "execute_result"
    }
   ],
   "source": [
    "'''抽取美的的评论'''\n",
    "outputfile = 'chapter15/demo/tmp2/meidi.txt'\n",
    "data = data[['评论']][data['品牌'] == '美的']\n",
    "data.to_csv(outputfile, index=False, header=False)\n",
    "data.head()"
   ]
  },
  {
   "cell_type": "markdown",
   "metadata": {},
   "source": [
    "## 2.2 评论预处理"
   ]
  },
  {
   "cell_type": "markdown",
   "metadata": {},
   "source": [
    "1. 文本去重"
   ]
  },
  {
   "cell_type": "code",
   "execution_count": 3,
   "metadata": {},
   "outputs": [
    {
     "name": "stdout",
     "output_type": "stream",
     "text": [
      "删除了2725条评论\n"
     ]
    }
   ],
   "source": [
    "'''文本去重'''\n",
    "outputfile = 'chapter15/demo/tmp2/meidi_1.txt'\n",
    "l1 = len(data)\n",
    "data = pd.DataFrame(data['评论'].unique(), columns=data.columns)\n",
    "l2 = len(data)\n",
    "data.to_csv(outputfile, index=False, header=False, encoding='utf-8')\n",
    "print('删除了%s条评论' % (l1 - l2))"
   ]
  },
  {
   "cell_type": "code",
   "execution_count": 4,
   "metadata": {},
   "outputs": [
    {
     "data": {
      "text/html": [
       "<div>\n",
       "<style scoped>\n",
       "    .dataframe tbody tr th:only-of-type {\n",
       "        vertical-align: middle;\n",
       "    }\n",
       "\n",
       "    .dataframe tbody tr th {\n",
       "        vertical-align: top;\n",
       "    }\n",
       "\n",
       "    .dataframe thead th {\n",
       "        text-align: right;\n",
       "    }\n",
       "</style>\n",
       "<table border=\"1\" class=\"dataframe\">\n",
       "  <thead>\n",
       "    <tr style=\"text-align: right;\">\n",
       "      <th></th>\n",
       "      <th>评论</th>\n",
       "    </tr>\n",
       "  </thead>\n",
       "  <tbody>\n",
       "    <tr>\n",
       "      <td>0</td>\n",
       "      <td>京东商城信得过，买的放心，用的省心、安心、放心！</td>\n",
       "    </tr>\n",
       "    <tr>\n",
       "      <td>1</td>\n",
       "      <td>给公司宿舍买的，上门安装很快，快递也送的及时，不错的。给五分吧</td>\n",
       "    </tr>\n",
       "    <tr>\n",
       "      <td>2</td>\n",
       "      <td>美的值得信赖，质量不错</td>\n",
       "    </tr>\n",
       "    <tr>\n",
       "      <td>3</td>\n",
       "      <td>不错不错的哦，第一次在京东买这些产品，感觉相当好</td>\n",
       "    </tr>\n",
       "    <tr>\n",
       "      <td>4</td>\n",
       "      <td>很满意，水方一晚上都还是热的早上还能再洗，</td>\n",
       "    </tr>\n",
       "  </tbody>\n",
       "</table>\n",
       "</div>"
      ],
      "text/plain": [
       "                                评论\n",
       "0         京东商城信得过，买的放心，用的省心、安心、放心！\n",
       "1  给公司宿舍买的，上门安装很快，快递也送的及时，不错的。给五分吧\n",
       "2                      美的值得信赖，质量不错\n",
       "3         不错不错的哦，第一次在京东买这些产品，感觉相当好\n",
       "4            很满意，水方一晚上都还是热的早上还能再洗，"
      ]
     },
     "execution_count": 4,
     "metadata": {},
     "output_type": "execute_result"
    }
   ],
   "source": [
    "data.head()"
   ]
  },
  {
   "cell_type": "markdown",
   "metadata": {},
   "source": [
    "2. 机械压缩去词，可以删除评论开头和结尾重复的词语，如“为什么为什么为什么安装费这么贵”压缩为“为什么安装费这么贵”，“真的挺好挺好挺好挺好”压缩为“真的挺好”"
   ]
  },
  {
   "cell_type": "code",
   "execution_count": 12,
   "metadata": {},
   "outputs": [],
   "source": [
    "'''定义机械压缩去词函数'''\n",
    "\n",
    "def compress(string):\n",
    "    string = string.strip()    # 删除换行符\n",
    "    str_list = list(string)    # 分隔字符为列表\n",
    "    s1 = [str_list[0]]    # 初始化 s1 列表为第一个字符\n",
    "    s2 = []\n",
    "    del_idx = []\n",
    "    for i in range(1, len(str_list)):\n",
    "        # 判断当前字符是否为最后一个字符\n",
    "        if i == len(str_list) - 1:    # 当前字符为最后一个字符，进行压缩判断\n",
    "            if s2 != []:\n",
    "                s2.append(str_list[i])\n",
    "                if s1 == s2:    # 如果 s1 和 s2 重复，则将需删除的索引加入 del_idx 中\n",
    "                    # print('{}为最后一个字符，发现重复，删除的索引为{}~{}'.format(i, i-len(s2), i-1))\n",
    "                    del_idx.extend(range(i-len(s2), i))\n",
    "            else:    # 不重复则什么也不做\n",
    "                # print('{}为最后一个字符，未发现重复'.format(i))\n",
    "                pass\n",
    "        # 当前字符不是最后一个字符，判断当前字符和 s1 的第一个字符是否相同\n",
    "        elif s1[0] == str_list[i]:    # 当前字符和 s1 的第一个字符相同，判断 s2 是否为空\n",
    "            if s2 == []:    # s2 为空，将该字符放入 s2\n",
    "                # print('{}和 s1 相同，s2 为空，放入 s2'.format(i))\n",
    "                s2 = [str_list[i]]\n",
    "            # s2 不为空，进行压缩判断\n",
    "            elif s1 == s2:    # 如果 s1 和 s2 重复，则将需删除的索引加入 del_idx 中，然后清空 s2\n",
    "                # print('{}和 s1 相同，s2 不为空，发现重复，删除的索引为{}~{}'.format(i, i-len(s2), i-1))\n",
    "                del_idx.extend(range(i-len(s2), i))\n",
    "                s2 = [str_list[i]]\n",
    "            else:    # 不重复，清空两个列表，将字符放入 s1\n",
    "                # print('{}和 s1 相同，s2 不为空，未发现重复，清空列表，放入 s1'.format(i))\n",
    "                s1 = [str_list[i]]\n",
    "                s2 = []\n",
    "        # 当前字符和 s1 的第一个字符不同，进行压缩判断\n",
    "        elif (s1 == s2) & (len(s2) >= 2):    # 如果 s1 和 s2 重复，且字符数大于等于2，则将需删除的索引加入 del_idx 中\n",
    "            # print('{}和 s1 不相同，发现重复且字符数大于等于2，删除的索引为{}~{}'.format(i, i-len(s2), i-1))\n",
    "            del_idx.extend(range(i-len(s2), i))\n",
    "            # 清空两个列表，将字符放入 s1\n",
    "            s1 = [str_list[i]]\n",
    "            s2 = []\n",
    "        elif s1 != s2:    # 如果 s1 和 s2 不重复，判断 s2 是否为空\n",
    "            if s2 == []:    # s2 为空，放入 s1\n",
    "                # print('{}和 s1 不相同，s2 为空，放入 s1'.format(i))\n",
    "                s1.append(str_list[i])\n",
    "                #print(len(s1))\n",
    "            else:    # s2 不为空，放入 s2\n",
    "                # print('{}和 s1 不相同，s2 不为空，放入 s2'.format(i))\n",
    "                s2.append(str_list[i])\n",
    "                #print(len(s2))\n",
    "        else:\n",
    "            #print(i)\n",
    "            pass\n",
    "    # 删除字符，从后往前删，避免索引变化\n",
    "    del_idx = sorted(del_idx)\n",
    "    for t in range(len(del_idx)-1, -1, -1):\n",
    "        del str_list[del_idx[t]]\n",
    "    new_str = ''.join(str_list)\n",
    "    return new_str"
   ]
  },
  {
   "cell_type": "code",
   "execution_count": 28,
   "metadata": {},
   "outputs": [],
   "source": [
    "# 字符串倒序函数\n",
    "sort = lambda x: ''.join(list(x)[::-1])\n",
    "# 开头去重\n",
    "data = pd.DataFrame(data['评论'].astype(str).apply(compress))\n",
    "# 倒序，然后开头去重（即末尾去重）\n",
    "data = pd.DataFrame(data['评论'].astype(str).apply(sort))\n",
    "data = pd.DataFrame(data['评论'].astype(str).apply(compress))\n",
    "# 还原\n",
    "data = pd.DataFrame(data['评论'].astype(str).apply(sort))"
   ]
  },
  {
   "cell_type": "code",
   "execution_count": 31,
   "metadata": {},
   "outputs": [
    {
     "name": "stdout",
     "output_type": "stream",
     "text": [
      "删除了993条评论\n"
     ]
    }
   ],
   "source": [
    "# 删除 4 字及以下的评论\n",
    "l1 = len(data)\n",
    "data = data[data['评论'].apply(lambda x: len(x) > 4)]\n",
    "l2 = len(data)\n",
    "print('删除了%s条评论' % (l1 - l2))"
   ]
  },
  {
   "cell_type": "code",
   "execution_count": 33,
   "metadata": {},
   "outputs": [],
   "source": [
    "# 保存数据\n",
    "outputfile = 'chapter15/demo/tmp2/meidi_2.txt'\n",
    "data.to_csv(outputfile, index=False, header=False, encoding='utf-8')"
   ]
  },
  {
   "cell_type": "markdown",
   "metadata": {},
   "source": [
    "## 2.3 LDA 主题分析"
   ]
  },
  {
   "cell_type": "markdown",
   "metadata": {},
   "source": [
    "- （备注：书中情感分析使用的是 ROSTCM6 软件，没找到 Linux 版本，鉴于操作并不复杂，后面直接使用书中提供的数据进行分析）"
   ]
  },
  {
   "cell_type": "markdown",
   "metadata": {},
   "source": [
    "- ROST 情感分析得到的数据具有评分前缀，需先删除"
   ]
  },
  {
   "cell_type": "code",
   "execution_count": 11,
   "metadata": {},
   "outputs": [],
   "source": [
    "'''删除前缀评分代码'''\n",
    "import pandas as pd\n",
    "\n",
    "inputfile1 = 'chapter15/demo/data/meidi_jd_process_end_负面情感结果.txt'\n",
    "inputfile2 = 'chapter15/demo/data/meidi_jd_process_end_正面情感结果.txt'\n",
    "outputfile1 = 'chapter15/demo/tmp2/meidi_neg.txt'\n",
    "outputfile2 = 'chapter15/demo/tmp2/meidi_pos.txt'\n",
    "\n",
    "data1 = pd.read_csv(inputfile1, encoding='utf-8', header=None)\n",
    "data2 = pd.read_csv(inputfile2, encoding='utf-8', header=None)\n",
    "\n",
    "data1 = pd.DataFrame(data1[0].str.replace('.*?\\d+?\\\\t ', ''))\n",
    "data2 = pd.DataFrame(data2[0].str.replace('.*?\\d+?\\\\t ', ''))\n",
    "\n",
    "data1.to_csv(outputfile1, index=False, header=False, encoding='utf-8')\n",
    "data2.to_csv(outputfile2, index=False, header=False, encoding='utf-8')"
   ]
  },
  {
   "cell_type": "markdown",
   "metadata": {},
   "source": [
    "- 使用结巴分词模块进行分词，并和停用词文档一次作为 LDA 程序输入"
   ]
  },
  {
   "cell_type": "code",
   "execution_count": 12,
   "metadata": {},
   "outputs": [],
   "source": [
    "'''分词代码'''\n",
    "import jieba\n",
    "\n",
    "outputfile1 = 'chapter15/demo/tmp2/meidi_neg_cut.txt'\n",
    "outputfile2 = 'chapter15/demo/tmp2/meidi_pos_cut.txt'\n",
    "\n",
    "mycut = lambda x: ' '.join(jieba.cut(x))\n",
    "data1 = data1[0].apply(mycut)\n",
    "data2 = data2[0].apply(mycut)\n",
    "\n",
    "data1.to_csv(outputfile1, index=False, header=False, encoding='utf-8')\n",
    "data2.to_csv(outputfile2, index=False, header=False, encoding='utf-8')"
   ]
  },
  {
   "cell_type": "markdown",
   "metadata": {},
   "source": [
    "- 使用 Gensim 库完成 LDA 分析：可以看到负面主题中 3 个主题的高频特征词为“安装”，“师傅”，“安装费”等，主要体现安装费用、安装师傅服务等不能让客户满意"
   ]
  },
  {
   "cell_type": "code",
   "execution_count": 13,
   "metadata": {},
   "outputs": [
    {
     "name": "stderr",
     "output_type": "stream",
     "text": [
      "/home/raymone/.local/lib/python3.6/site-packages/ipykernel_launcher.py:3: ParserWarning: Falling back to the 'python' engine because the 'c' engine does not support regex separators (separators > 1 char and different from '\\s+' are interpreted as regex); you can avoid this warning by specifying engine='python'.\n",
      "  This is separate from the ipykernel package so we can avoid doing imports until\n"
     ]
    }
   ],
   "source": [
    "'''LDA 代码'''\n",
    "stoplist = 'chapter15/demo/data/stoplist.txt'    # 停用词表\n",
    "stop = pd.read_csv(stoplist, encoding='utf-8', header=None, sep='tipdm')\n",
    "# sep 设置分隔词，由于 csv 默认使用半角逗号作为分隔词，该词刚好在停用词表中，因此会导致出错，所以需要设置一个不存在的分隔词\n",
    "stop = [' ',''] + list(stop[0])    # pandas 会自动过滤空格，添加进去\n",
    "\n",
    "neg = pd.DataFrame(data1)\n",
    "pos = pd.DataFrame(data2)\n",
    "neg[1] = neg[0].apply(lambda x: x.split(' '))    # 分隔\n",
    "neg[2] = neg[1].apply(lambda x: [i for i in x if i not in stop])    # 判断是否在停用词表中\n",
    "pos[1] = pos[0].apply(lambda x: x.split(' '))\n",
    "pos[2] = pos[1].apply(lambda x: [i for i in x if i not in stop])"
   ]
  },
  {
   "cell_type": "code",
   "execution_count": 14,
   "metadata": {},
   "outputs": [
    {
     "name": "stdout",
     "output_type": "stream",
     "text": [
      "0.038*\"安装\" + 0.024*\"买\" + 0.022*\"热水器\" + 0.013*\"师傅\" + 0.013*\"美的\" + 0.011*\"京东\" + 0.009*\"问题\" + 0.008*\"一个\" + 0.007*\"东西\" + 0.006*\"售后\"\n",
      "\n",
      "\n",
      "0.033*\"安装\" + 0.020*\"好\" + 0.016*\"买\" + 0.016*\"知道\" + 0.015*\"热水器\" + 0.014*\"不错\" + 0.013*\"加热\" + 0.011*\"n\" + 0.008*\"使用\" + 0.008*\"挺\"\n",
      "\n",
      "\n",
      "0.047*\"安装\" + 0.028*\"不错\" + 0.014*\"安装费\" + 0.013*\"好\" + 0.012*\"热水器\" + 0.011*\"师傅\" + 0.011*\"美的\" + 0.011*\"有点\" + 0.010*\"不好\" + 0.010*\"东西\"\n",
      "\n",
      "\n",
      "***************************************************************\n",
      "0.059*\"安装\" + 0.021*\"师傅\" + 0.013*\"一个\" + 0.013*\"热水器\" + 0.013*\"加热\" + 0.011*\"买\" + 0.011*\"好\" + 0.011*\"美的\" + 0.010*\"有点\" + 0.008*\"安装费\"\n",
      "\n",
      "\n",
      "0.101*\"不错\" + 0.096*\"好\" + 0.038*\"安装\" + 0.023*\"买\" + 0.022*\"送货\" + 0.021*\"东西\" + 0.020*\"挺\" + 0.016*\"热水器\" + 0.016*\"很快\" + 0.016*\"速度\"\n",
      "\n",
      "\n",
      "0.021*\"美的\" + 0.017*\"n\" + 0.016*\"值得\" + 0.015*\"京东\" + 0.013*\"买\" + 0.012*\"信赖\" + 0.011*\"热水器\" + 0.011*\"问题\" + 0.011*\"安装\" + 0.010*\"品牌\"\n",
      "\n",
      "\n"
     ]
    }
   ],
   "source": [
    "from gensim import corpora, models\n",
    "\n",
    "# 负面主题分析\n",
    "neg_dict = corpora.Dictionary(neg[2])    # 建立词典\n",
    "neg_corpus = [neg_dict.doc2bow(i) for i in neg[2]]    # 建立语料库\n",
    "neg_lda = models.LdaModel(neg_corpus, num_topics=3, id2word=neg_dict)    # LDA 模型训练\n",
    "for i in range(3):\n",
    "    print(neg_lda.print_topic(i))\n",
    "    print('\\n')\n",
    "print('***************************************************************')\n",
    "# 正面主题分析\n",
    "pos_dict = corpora.Dictionary(pos[2])    # 建立词典\n",
    "pos_corpus = [pos_dict.doc2bow(i) for i in pos[2]]    # 建立语料库\n",
    "pos_lda = models.LdaModel(pos_corpus, num_topics=3, id2word=pos_dict)    # LDA 模型训练\n",
    "for i in range(3):\n",
    "    print(pos_lda.print_topic(i))\n",
    "    print('\\n')"
   ]
  }
 ],
 "metadata": {
  "kernelspec": {
   "display_name": "Python 3",
   "language": "python",
   "name": "python3"
  },
  "language_info": {
   "codemirror_mode": {
    "name": "ipython",
    "version": 3
   },
   "file_extension": ".py",
   "mimetype": "text/x-python",
   "name": "python",
   "nbconvert_exporter": "python",
   "pygments_lexer": "ipython3",
   "version": "3.6.8"
  }
 },
 "nbformat": 4,
 "nbformat_minor": 2
}
